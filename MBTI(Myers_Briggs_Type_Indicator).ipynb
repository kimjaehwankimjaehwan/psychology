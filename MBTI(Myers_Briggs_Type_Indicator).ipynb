{
  "nbformat": 4,
  "nbformat_minor": 0,
  "metadata": {
    "colab": {
      "provenance": [],
      "authorship_tag": "ABX9TyPk/Asrpfjc1juGAERZ2Fgm",
      "include_colab_link": true
    },
    "kernelspec": {
      "name": "python3",
      "display_name": "Python 3"
    },
    "language_info": {
      "name": "python"
    }
  },
  "cells": [
    {
      "cell_type": "markdown",
      "metadata": {
        "id": "view-in-github",
        "colab_type": "text"
      },
      "source": [
        "<a href=\"https://colab.research.google.com/github/kimjaehwankimjaehwan/psychology/blob/main/MBTI(Myers_Briggs_Type_Indicator).ipynb\" target=\"_parent\"><img src=\"https://colab.research.google.com/assets/colab-badge.svg\" alt=\"Open In Colab\"/></a>"
      ]
    },
    {
      "cell_type": "code",
      "source": [
        "from google.colab import drive\n",
        "drive.mount('/content/drive')"
      ],
      "metadata": {
        "colab": {
          "base_uri": "https://localhost:8080/"
        },
        "id": "YUB6dOP3dUfl",
        "outputId": "aee5a776-1926-46db-8b19-bfb4f38757ab"
      },
      "execution_count": 1,
      "outputs": [
        {
          "output_type": "stream",
          "name": "stdout",
          "text": [
            "Mounted at /content/drive\n"
          ]
        }
      ]
    },
    {
      "cell_type": "markdown",
      "source": [
        "###Content\n",
        "\n",
        "This dataset contains over 8600 rows of data, on each row is a person’s:\n",
        "\n",
        "Type (This persons 4 letter MBTI code/type)\n",
        "A section of each of the last 50 things they have posted (Each entry separated by \"|||\" (3 pipe characters))\n",
        "\n",
        "###Acknowledgements\n",
        "\n",
        "This data was collected through the PersonalityCafe forum, as it provides a large selection of people and their MBTI personality type, as well as what they have written."
      ],
      "metadata": {
        "id": "mPyz-umcfD8c"
      }
    },
    {
      "cell_type": "code",
      "execution_count": 2,
      "metadata": {
        "colab": {
          "base_uri": "https://localhost:8080/"
        },
        "id": "54cmTkN7dJGX",
        "outputId": "deaa3bd1-cb19-4882-e8fa-93cb1e9e9984"
      },
      "outputs": [
        {
          "output_type": "stream",
          "name": "stdout",
          "text": [
            "MBTI 유형: INFJ\n",
            "상위 10개 단어: [('like', 11921), ('just', 9811), ('think', 8796), ('people', 8591), ('don', 8440), ('know', 6822), ('infj', 6472), ('ve', 6271), ('really', 6172), ('time', 4933)]\n",
            "\n",
            "MBTI 유형: ENTP\n",
            "상위 10개 단어: [('like', 5354), ('just', 4442), ('think', 3919), ('don', 3866), ('people', 3700), ('entp', 2995), ('know', 2782), ('really', 2590), ('ve', 2410), ('time', 1979)]\n",
            "\n",
            "MBTI 유형: INTP\n",
            "상위 10개 단어: [('like', 9732), ('just', 8098), ('don', 7761), ('think', 7098), ('people', 7096), ('know', 5043), ('intp', 4963), ('really', 4622), ('ve', 4425), ('com', 4170)]\n",
            "\n",
            "MBTI 유형: INTJ\n",
            "상위 10개 단어: [('like', 7793), ('don', 6320), ('just', 6248), ('people', 5950), ('think', 5557), ('intj', 4789), ('know', 4273), ('ve', 3748), ('really', 3472), ('time', 3347)]\n",
            "\n",
            "MBTI 유형: ENTJ\n",
            "상위 10개 단어: [('like', 1668), ('just', 1375), ('don', 1294), ('think', 1288), ('people', 1236), ('entj', 1019), ('know', 888), ('really', 731), ('ve', 725), ('time', 669)]\n",
            "\n",
            "MBTI 유형: ENFJ\n",
            "상위 10개 단어: [('like', 1652), ('just', 1304), ('think', 1232), ('people', 1176), ('don', 1031), ('know', 938), ('really', 901), ('enfj', 897), ('ve', 793), ('feel', 693)]\n",
            "\n",
            "MBTI 유형: INFP\n",
            "상위 10개 단어: [('like', 15866), ('just', 12169), ('think', 11324), ('don', 10720), ('people', 10465), ('really', 8749), ('know', 8111), ('ve', 8078), ('infp', 7294), ('feel', 6553)]\n",
            "\n",
            "MBTI 유형: ENFP\n",
            "상위 10개 단어: [('like', 6038), ('just', 4758), ('think', 4019), ('don', 3716), ('people', 3708), ('enfp', 3351), ('know', 3160), ('really', 3124), ('ve', 2705), ('love', 2448)]\n",
            "\n",
            "MBTI 유형: ISFP\n",
            "상위 10개 단어: [('like', 2352), ('just', 1756), ('don', 1589), ('think', 1543), ('people', 1304), ('really', 1299), ('com', 1112), ('isfp', 1078), ('know', 1073), ('ve', 1008)]\n",
            "\n",
            "MBTI 유형: ISTP\n",
            "상위 10개 단어: [('like', 2502), ('just', 2250), ('don', 2122), ('people', 1681), ('think', 1665), ('know', 1325), ('istp', 1274), ('really', 1268), ('ve', 1241), ('com', 1238)]\n",
            "\n",
            "MBTI 유형: ISFJ\n",
            "상위 10개 단어: [('like', 1396), ('just', 1084), ('think', 1060), ('don', 996), ('people', 884), ('isfj', 882), ('really', 778), ('know', 728), ('ve', 667), ('time', 617)]\n",
            "\n",
            "MBTI 유형: ISTJ\n",
            "상위 10개 단어: [('like', 1668), ('just', 1314), ('don', 1306), ('think', 1010), ('people', 942), ('istj', 921), ('know', 841), ('ve', 812), ('really', 765), ('time', 725)]\n",
            "\n",
            "MBTI 유형: ESTP\n",
            "상위 10개 단어: [('like', 749), ('just', 592), ('don', 538), ('think', 506), ('estp', 461), ('people', 460), ('know', 402), ('really', 342), ('ve', 329), ('type', 272)]\n",
            "\n",
            "MBTI 유형: ESFP\n",
            "상위 10개 단어: [('like', 358), ('just', 281), ('don', 267), ('think', 263), ('people', 225), ('know', 190), ('really', 182), ('ve', 175), ('esfp', 164), ('com', 122)]\n",
            "\n",
            "MBTI 유형: ESTJ\n",
            "상위 10개 단어: [('like', 270), ('think', 246), ('just', 222), ('people', 217), ('don', 198), ('estj', 194), ('know', 164), ('really', 130), ('ve', 121), ('time', 112)]\n",
            "\n",
            "MBTI 유형: ESFJ\n",
            "상위 10개 단어: [('like', 387), ('think', 321), ('esfj', 282), ('people', 273), ('just', 264), ('don', 264), ('know', 210), ('really', 180), ('ve', 177), ('time', 159)]\n",
            "\n"
          ]
        }
      ],
      "source": [
        "import pandas as pd\n",
        "from sklearn.feature_extraction.text import CountVectorizer\n",
        "import matplotlib.pyplot as plt\n",
        "\n",
        "file_path = '/content/drive/MyDrive/심리학/mbti_1.csv'\n",
        "mbti_data = pd.read_csv(file_path)\n",
        "\n",
        "def preprocess_text(text):\n",
        "    text = text.lower()\n",
        "    text = text.replace('|||', ' ')\n",
        "    return text\n",
        "\n",
        "mbti_data['processed_posts'] = mbti_data['posts'].apply(preprocess_text)\n",
        "\n",
        "mbti_types = mbti_data['type'].unique()\n",
        "type_word_freq = {}\n",
        "\n",
        "for mbti_type in mbti_types:\n",
        "    type_data = mbti_data[mbti_data['type'] == mbti_type]\n",
        "    vectorizer = CountVectorizer(max_features=50, stop_words='english')  # 상위 50개 단어만 추출\n",
        "    word_counts = vectorizer.fit_transform(type_data['processed_posts'])\n",
        "    word_freq = word_counts.sum(axis=0)\n",
        "    word_freq_dict = {word: word_freq[0, idx] for word, idx in vectorizer.vocabulary_.items()}\n",
        "    type_word_freq[mbti_type] = word_freq_dict\n",
        "\n",
        "for mbti_type, words in type_word_freq.items():\n",
        "    print(f\"MBTI 유형: {mbti_type}\")\n",
        "    print(\"상위 10개 단어:\", sorted(words.items(), key=lambda x: x[1], reverse=True)[:10])\n",
        "    print()\n"
      ]
    },
    {
      "cell_type": "code",
      "source": [
        "from sklearn.model_selection import train_test_split\n",
        "from sklearn.feature_extraction.text import TfidfVectorizer\n",
        "from sklearn.linear_model import LogisticRegression\n",
        "from sklearn.metrics import classification_report, accuracy_score\n",
        "\n",
        "tfidf_vectorizer = TfidfVectorizer(max_features=5000, stop_words='english')\n",
        "X = tfidf_vectorizer.fit_transform(mbti_data['processed_posts'])\n",
        "\n",
        "y = mbti_data['type']\n",
        "\n",
        "X_train, X_test, y_train, y_test = train_test_split(X, y, test_size=0.2, random_state=42)\n",
        "\n",
        "model = LogisticRegression(max_iter=1000, multi_class='ovr')\n",
        "model.fit(X_train, y_train)\n",
        "\n",
        "y_pred = model.predict(X_test)\n",
        "print(\"Accuracy:\", accuracy_score(y_test, y_pred))\n",
        "print(classification_report(y_test, y_pred))\n"
      ],
      "metadata": {
        "colab": {
          "base_uri": "https://localhost:8080/"
        },
        "id": "G-qyjSccds06",
        "outputId": "3f99a456-7152-4233-cf5d-3a468701587a"
      },
      "execution_count": 3,
      "outputs": [
        {
          "output_type": "stream",
          "name": "stdout",
          "text": [
            "Accuracy: 0.6530259365994237\n",
            "              precision    recall  f1-score   support\n",
            "\n",
            "        ENFJ       0.45      0.12      0.19        41\n",
            "        ENFP       0.74      0.60      0.66       125\n",
            "        ENTJ       0.79      0.34      0.48        44\n",
            "        ENTP       0.72      0.58      0.64       135\n",
            "        ESFJ       0.00      0.00      0.00         7\n",
            "        ESFP       0.00      0.00      0.00         8\n",
            "        ESTJ       0.00      0.00      0.00         7\n",
            "        ESTP       1.00      0.13      0.24        15\n",
            "        INFJ       0.65      0.70      0.68       288\n",
            "        INFP       0.59      0.86      0.70       370\n",
            "        INTJ       0.62      0.72      0.67       193\n",
            "        INTP       0.69      0.81      0.74       293\n",
            "        ISFJ       1.00      0.29      0.45        45\n",
            "        ISFP       0.71      0.19      0.30        53\n",
            "        ISTJ       0.67      0.23      0.34        44\n",
            "        ISTP       0.75      0.45      0.56        67\n",
            "\n",
            "    accuracy                           0.65      1735\n",
            "   macro avg       0.59      0.38      0.42      1735\n",
            "weighted avg       0.66      0.65      0.63      1735\n",
            "\n"
          ]
        },
        {
          "output_type": "stream",
          "name": "stderr",
          "text": [
            "/usr/local/lib/python3.10/dist-packages/sklearn/metrics/_classification.py:1471: UndefinedMetricWarning: Precision and F-score are ill-defined and being set to 0.0 in labels with no predicted samples. Use `zero_division` parameter to control this behavior.\n",
            "  _warn_prf(average, modifier, msg_start, len(result))\n",
            "/usr/local/lib/python3.10/dist-packages/sklearn/metrics/_classification.py:1471: UndefinedMetricWarning: Precision and F-score are ill-defined and being set to 0.0 in labels with no predicted samples. Use `zero_division` parameter to control this behavior.\n",
            "  _warn_prf(average, modifier, msg_start, len(result))\n",
            "/usr/local/lib/python3.10/dist-packages/sklearn/metrics/_classification.py:1471: UndefinedMetricWarning: Precision and F-score are ill-defined and being set to 0.0 in labels with no predicted samples. Use `zero_division` parameter to control this behavior.\n",
            "  _warn_prf(average, modifier, msg_start, len(result))\n"
          ]
        }
      ]
    },
    {
      "cell_type": "markdown",
      "source": [
        "###**성능 분석**\n",
        "#### 1.일부 유형에서의 낮은 성능:\n",
        "\n",
        "ESFJ, ESFP, ESTJ와 같은 유형은 지원(support) 수가 매우 적고, 정밀도와 재현율이 0에 가까운 값을 보입니다. 이는 해당 유형의 데이터가 적어서 모델이 잘 학습하지 못했음을 의미합니다.\n",
        "\n",
        "ISFJ와 ISTJ 유형도 비슷한 경향을 보이며, 이들 유형의 경우 재현율이 매우 낮습니다.\n",
        "\n",
        "####2. 일부 유형에서의 상대적으로 높은 성능:\n",
        "\n",
        "INFJ, INFP, INTJ, INTP 유형은 데이터가 많이 포함되어 있으며, F1 점수가 비교적 높습니다. 특히 INFP와 INTP는 재현율이 80%를 넘고, F1 점수도 0.70 이상으로 나옵니다.\n",
        "\n",
        "이는 해당 유형의 데이터가 많아 모델이 잘 학습한 결과일 가능성이 큽니다.\n",
        "\n",
        "####3. **매크로 평균(macro avg)**과 가중 평균(weighted avg):\n",
        "\n",
        "매크로 평균은 모든 클래스의 평균 성능을 나타내며, 클래스의 데이터 수에 관계없이 동일하게 계산됩니다. 이 경우 성능이 좋지 않은 클래스들이 있어 평균적으로 낮은 값을 보입니다.\n",
        "\n",
        "가중 평균은 각 클래스의 데이터 수에 비례하여 계산되므로, 데이터가 많은 클래스의 성능이 더 크게 반영됩니다. 따라서 매크로 평균보다 가중 평균이 더 높은 것을 볼 수 있습니다."
      ],
      "metadata": {
        "id": "tK68kdpheSX3"
      }
    },
    {
      "cell_type": "code",
      "source": [
        "import numpy as np\n",
        "\n",
        "tfidf_vectorizer = TfidfVectorizer(max_features=5000, stop_words='english')\n",
        "X = tfidf_vectorizer.fit_transform(mbti_data['processed_posts'])\n",
        "terms = np.array(tfidf_vectorizer.get_feature_names_out())\n",
        "\n",
        "for mbti_type in mbti_types:\n",
        "    type_data = mbti_data[mbti_data['type'] == mbti_type]\n",
        "    type_tfidf = tfidf_vectorizer.transform(type_data['processed_posts'])\n",
        "    mean_tfidf = np.mean(type_tfidf, axis=0).A1  # 각 단어의 평균 TF-IDF 값 계산\n",
        "    top_terms_idx = mean_tfidf.argsort()[-10:][::-1]  # 상위 10개 단어 인덱스\n",
        "    top_terms = terms[top_terms_idx]\n",
        "\n",
        "    print(f\"MBTI 유형: {mbti_type}\")\n",
        "    print(\"상위 10개 특징 단어:\", top_terms)\n",
        "    print()\n"
      ],
      "metadata": {
        "colab": {
          "base_uri": "https://localhost:8080/"
        },
        "id": "Yb8ouNlrd5XF",
        "outputId": "3cd80782-b2ca-4945-f0b0-876897ec24cc"
      },
      "execution_count": 4,
      "outputs": [
        {
          "output_type": "stream",
          "name": "stdout",
          "text": [
            "MBTI 유형: INFJ\n",
            "상위 10개 특징 단어: ['like' 'infj' 'just' 'think' 'people' 'don' 've' 'know' 'really' 'com']\n",
            "\n",
            "MBTI 유형: ENTP\n",
            "상위 10개 특징 단어: ['entp' 'like' 'just' 'don' 'think' 'people' 'know' 'really' 've' 'entps']\n",
            "\n",
            "MBTI 유형: INTP\n",
            "상위 10개 특징 단어: ['like' 'intp' 'just' 'don' 'people' 'think' 'com' 'know' 've' 'really']\n",
            "\n",
            "MBTI 유형: INTJ\n",
            "상위 10개 특징 단어: ['intj' 'like' 'don' 'just' 'people' 'think' 'know' 've' 'com' 'really']\n",
            "\n",
            "MBTI 유형: ENTJ\n",
            "상위 10개 특징 단어: ['entj' 'like' 'just' 'don' 'think' 'people' 'know' 'entjs' 've' 'type']\n",
            "\n",
            "MBTI 유형: ENFJ\n",
            "상위 10개 특징 단어: ['enfj' 'like' 'just' 'think' 'people' 'don' 'really' 'know' 've' 'enfjs']\n",
            "\n",
            "MBTI 유형: INFP\n",
            "상위 10개 특징 단어: ['like' 'infp' 'just' 'think' 'don' 'people' 'really' 've' 'com' 'know']\n",
            "\n",
            "MBTI 유형: ENFP\n",
            "상위 10개 특징 단어: ['enfp' 'like' 'just' 'think' 'don' 'people' 'really' 'know' 've' 'love']\n",
            "\n",
            "MBTI 유형: ISFP\n",
            "상위 10개 특징 단어: ['isfp' 'like' 'just' 'don' 'think' 'com' 'really' 'people' 'youtube'\n",
            " 'www']\n",
            "\n",
            "MBTI 유형: ISTP\n",
            "상위 10개 특징 단어: ['istp' 'like' 'just' 'don' 'people' 'think' 'com' 've' 'really' 'know']\n",
            "\n",
            "MBTI 유형: ISFJ\n",
            "상위 10개 특징 단어: ['isfj' 'like' 'just' 'think' 'don' 'people' 'really' 've' 'know' 'isfjs']\n",
            "\n",
            "MBTI 유형: ISTJ\n",
            "상위 10개 특징 단어: ['istj' 'like' 'don' 'just' 'think' 'people' 've' 'know' 'com' 'really']\n",
            "\n",
            "MBTI 유형: ESTP\n",
            "상위 10개 특징 단어: ['estp' 'like' 'just' 'don' 'think' 'people' 'know' 'estps' 've' 'type']\n",
            "\n",
            "MBTI 유형: ESFP\n",
            "상위 10개 특징 단어: ['esfp' 'like' 'just' 'don' 'think' 'people' 'know' 've' 'really' 'com']\n",
            "\n",
            "MBTI 유형: ESTJ\n",
            "상위 10개 특징 단어: ['estj' 'like' 'think' 'people' 'just' 'don' 'estjs' 'know' 've' 'really']\n",
            "\n",
            "MBTI 유형: ESFJ\n",
            "상위 10개 특징 단어: ['esfj' 'esfjs' 'like' 'think' 'people' 'don' 'just' 'know' 'type' 've']\n",
            "\n"
          ]
        }
      ]
    }
  ]
}